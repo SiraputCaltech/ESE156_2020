{
 "cells": [
  {
   "cell_type": "markdown",
   "metadata": {},
   "source": [
    "# Writing a simple forward model for ground-based spectroscopic observations\n",
    "#### ESE156 2020,  5th notebook, Christian Frankenberg \n",
    "\n",
    "Here, we assume a spectrometer to be located on the ground, staring right into the sun, i.e. we have a direct light-path through the atmosphere. To generate a forward model, we need to:\n",
    "<li> Read in an atmospheric profile of p/T and humidity\n",
    "<li> Compute the dry vertical column density of each layer (and the water column)\n",
    "<li> Define our trace gases of interest, specify a vertical profile (constant here for all but H2O)\n",
    "<li> Compute the cross section of each gas for each atmospheric layer (function of p/T)\n",
    "<li> Define a forward model that computes the transmission through the atmosphere (including trace gas absorptions), apply an instrument operator (convolution and resampling) and low-frequency multiplicator (Polynomial)\n",
    "<li> run and plot"
   ]
  },
  {
   "cell_type": "code",
   "execution_count": null,
   "metadata": {},
   "outputs": [],
   "source": [
    "# Use our tools (you might need to add packages, see file)\n",
    "include(\"ese156_tools.jl\")"
   ]
  },
  {
   "cell_type": "markdown",
   "metadata": {},
   "source": [
    "---\n",
    "#### Define file and lat/lon"
   ]
  },
  {
   "cell_type": "code",
   "execution_count": null,
   "metadata": {},
   "outputs": [],
   "source": [
    "file = \"files/MERRA300.prod.assim.inst6_3d_ana_Nv.20150613.hdf.nc4\"\n",
    "timeIndex = 2 # There is 00, 06, 12 and 18 in UTC, i.e. 6 hourly data stacked together\n",
    "\n",
    "# What latitude do we want? \n",
    "myLat = 34.1377;\n",
    "myLon = -118.1253;"
   ]
  },
  {
   "cell_type": "code",
   "execution_count": null,
   "metadata": {},
   "outputs": [],
   "source": [
    "# Read profile (and generate dry/wet VCDs per layer)\n",
    "profile_caltech = read_atmos_profile(file, myLat, myLon, timeIndex);"
   ]
  },
  {
   "cell_type": "markdown",
   "metadata": {},
   "source": [
    "---\n",
    "#### Define HITRAN parameters"
   ]
  },
  {
   "cell_type": "code",
   "execution_count": null,
   "metadata": {},
   "outputs": [],
   "source": [
    "# Minimum wavenumber\n",
    "ν_min  = 6100.0\n",
    "# Maximum wavenumber\n",
    "ν_xmax = 6400.0\n",
    "\n",
    "co2_par = CrossSection.read_hitran(\"files/hitran_molec_id_2_CO2.par\", mol=2, iso=1, ν_min=ν_min, ν_max=ν_xmax);\n",
    "ch4_par = CrossSection.read_hitran(\"files/hitran_molec_id_6_CH4.par\", mol=6, iso=1, ν_min=ν_min, ν_max=ν_xmax);\n",
    "h2o_par = CrossSection.read_hitran(\"files/hitran_molec_id_1_H2O.par\", mol=1, iso=1, ν_min=ν_min, ν_max=ν_xmax);"
   ]
  },
  {
   "cell_type": "code",
   "execution_count": null,
   "metadata": {},
   "outputs": [],
   "source": [
    "co2_voigt   = make_hitran_model(co2_par, Voigt(), wing_cutoff=10)\n",
    "h2o_voigt   = make_hitran_model(h2o_par, Voigt(), wing_cutoff=10)\n",
    "ch4_voigt   = make_hitran_model(ch4_par, Voigt(), wing_cutoff=10)\n",
    "\n",
    "hitran_array = [co2_voigt, h2o_voigt, ch4_voigt];"
   ]
  },
  {
   "cell_type": "markdown",
   "metadata": {},
   "source": [
    "---\n",
    "#### Define model resolution and compute all cross sections for profile"
   ]
  },
  {
   "cell_type": "code",
   "execution_count": null,
   "metadata": {},
   "outputs": [],
   "source": [
    "res = 0.005\n",
    "ν = 6300:res:6400\n",
    "σ_matrix = compute_profile_crossSections(profile_caltech, hitran_array , ν);"
   ]
  },
  {
   "cell_type": "code",
   "execution_count": null,
   "metadata": {},
   "outputs": [],
   "source": [
    "# Define concentration profile:\n",
    "nL = length(profile_caltech.T)\n",
    "vmr_co2 = zeros(nL) .+ 400e-6\n",
    "vmr_ch4 = zeros(nL) .+ 2e-6\n",
    "vmr_h2o = profile_caltech.vcd_h2o ./ profile_caltech.vcd_dry\n",
    "vmrs = [vmr_co2, vmr_h2o, vmr_ch4 ];\n",
    "\n",
    "# Define a polynomial scaling\n",
    "p = Polynomial([2,-0.1,0.00003])"
   ]
  },
  {
   "cell_type": "markdown",
   "metadata": {},
   "source": [
    "---\n",
    "### Define Instrument models:"
   ]
  },
  {
   "cell_type": "code",
   "execution_count": null,
   "metadata": {},
   "outputs": [],
   "source": [
    "# Define an Instrument, TCCON specs\n",
    "FWHM = 0.02  # 0.2cm-1 resolution\n",
    "Δν = 0.01\n",
    "tccon = KernelInstrument(gaussian_kernel(FWHM, res), collect(6300:Δν:6400));\n",
    "\n",
    "# Define an Instrument, OCO-2 specs\n",
    "FWHM = 0.4  # 0.2cm-1 resolution\n",
    "Δν = 0.1\n",
    "oco2 = KernelInstrument(gaussian_kernel(FWHM, res), collect(6300:Δν:6400));\n",
    "\n",
    "# Define an Instrument, SCIAMACHY specs\n",
    "FWHM = 4.0  # 0.2cm-1 resolution\n",
    "Δν = 1.0\n",
    "sciamachy = KernelInstrument(gaussian_kernel(FWHM, res), collect(6300:Δν:6400));"
   ]
  },
  {
   "cell_type": "markdown",
   "metadata": {},
   "source": [
    "---\n",
    "### Define a simplified Forward model:"
   ]
  },
  {
   "cell_type": "code",
   "execution_count": null,
   "metadata": {},
   "outputs": [],
   "source": [
    "function forward_model_tccon(vmrs,σ_matrix, profile, poly, sza; instrument, ν=ν)\n",
    "    # Air Mass Factor\n",
    "    AMF = 1/cosd(sza)\n",
    "    \n",
    "    # Total sum of τ\n",
    "    ∑τ = zeros(size(σ_matrix,1))\n",
    "    for i=1:length(vmrs)\n",
    "        ∑τ[:] += sum(σ_matrix[:,:,i] .* (vmrs[i] .* profile.vcd_dry)', dims=2)\n",
    "    end\n",
    "    # Transmission\n",
    "    T = exp.(-AMF * ∑τ)\n",
    "    T_conv = conv_spectra(instrument, ν, T)\n",
    "    # x-axis for polynomial [-1,1], enables legendre later:\n",
    "    x_poly = rescale_x(instrument.ν_out)\n",
    "    return T_conv .* poly.(x_poly)\n",
    "end"
   ]
  },
  {
   "cell_type": "markdown",
   "metadata": {},
   "source": [
    "---\n",
    "#### Compute F(x)\n",
    "for different instruments"
   ]
  },
  {
   "cell_type": "code",
   "execution_count": null,
   "metadata": {},
   "outputs": [],
   "source": [
    "sza = 45.0\n",
    "T_tccon     = forward_model_tccon(vmrs,σ_matrix, profile_caltech, p, sza; instrument=tccon );\n",
    "T_oco2      = forward_model_tccon(vmrs,σ_matrix, profile_caltech, p, sza; instrument=oco2 );\n",
    "T_sciamachy = forward_model_tccon(vmrs,σ_matrix, profile_caltech, p, sza; instrument=sciamachy );"
   ]
  },
  {
   "cell_type": "markdown",
   "metadata": {},
   "source": [
    "--- \n",
    "#### Plot model output"
   ]
  },
  {
   "cell_type": "code",
   "execution_count": null,
   "metadata": {},
   "outputs": [],
   "source": [
    "plot(tccon.ν_out,T_tccon, label=\"TCCON\", legend=:bottomright, lw=2)\n",
    "plot!(oco2.ν_out,T_oco2, label=\"OCO-2\", lw=2)\n",
    "plot!(sciamachy.ν_out,T_sciamachy, label=\"SCIAMACHY\", lw=2)\n",
    "xlabel!(\"Wavenumber (cm⁻¹)\")\n",
    "ylabel!(\"Radiance (AU)\")"
   ]
  },
  {
   "cell_type": "markdown",
   "metadata": {},
   "source": [
    "For fun, try to change some trace gas concentrations and see the change!"
   ]
  },
  {
   "cell_type": "markdown",
   "metadata": {},
   "source": [
    "_____\n",
    "The simple function above is an almost complete example of a forward model that can simulate an actual measurement. We can also write it in a way that we just need to provide a full state-vector $x$, which can include all trace gas VMRs as well as the polynomial and also a parameterization of the spectral sampling. SZA and FWHM would be external parameters that need to be provided but not fitted (but might have uncertainty themselves). \n",
    "\n",
    "There is one other thing that we forgot, namely Fraunhofer lines!\n",
    "\n",
    "Similar to the atmospheric line transitions, there are databaases for solar absorption features. We now want to read  solar transmission spectrum (disk integrated vs. disk centered). A generated spectrum using a solar line-list (not a low resolution measured spectrum) can be downloaded at http://mark4sun.jpl.nasa.gov/toon/solar/solar_spectrum.html.\n",
    "\n",
    "The solar transmission spectrum is basically calculated from a tabulated line-list (strength and width) compiled by Geoff Toon from JPL. These absorption features are caused by absorptions of trace elements in the solar photosphere."
   ]
  },
  {
   "cell_type": "code",
   "execution_count": null,
   "metadata": {},
   "outputs": [],
   "source": []
  }
 ],
 "metadata": {
  "@webio": {
   "lastCommId": null,
   "lastKernelId": null
  },
  "kernelspec": {
   "display_name": "Julia 1.5.2",
   "language": "julia",
   "name": "julia-1.5"
  },
  "language_info": {
   "file_extension": ".jl",
   "mimetype": "application/julia",
   "name": "julia",
   "version": "1.5.2"
  }
 },
 "nbformat": 4,
 "nbformat_minor": 4
}

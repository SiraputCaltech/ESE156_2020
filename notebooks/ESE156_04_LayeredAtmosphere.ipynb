{
 "cells": [
  {
   "cell_type": "markdown",
   "metadata": {},
   "source": [
    "### Example 4: Computing layer optical properties and writing a simple forward model\n",
    "Part of ESE 156 Remote Sensing Class;\n",
    "Christian Frankenberg\n",
    "__________\n",
    "So far, we have learned about the basics of optical properties of trace gases and their dependence on pressure and temperature in particular (both in terms of the line-shapes but also redistribution of line-strengths within a band due to the Boltzmann distribution of the population of rotational states).\n",
    "\n",
    "The purpose of this exercise is to compute optical properties of a vertically structured atmosphere (varying in pressure, temperature and of course mixing ratios). We will first look at idealized examples, for which we assume a direct light-path between the sun and an observer on the ground (e.g. a TCCON measurement taken right in the Linde Robinson building!).\n",
    "\n",
    "You will also learn a little about accessing Numerical Weather Forecast models, see e.g. for accessing grib data:\n",
    "http://nbviewer.jupyter.org/gist/jswhit/8635665"
   ]
  },
  {
   "cell_type": "markdown",
   "metadata": {},
   "source": [
    "### Layer properties\n",
    "\n",
    "If the cross sections vary substantially as a function of pressure and temperature (as they do for rotational/vibrational transitions), we need to divide the atmosphere into separate layers to compute optical properties for each of those, assuming a specific p and T for this layer. \n",
    "\n",
    "What we also need is the vertical column density (VCD) of each layer separately. The total VCD of a gas $i$ with volume mixing ratio in dry air $VMR_i$ is given as \n",
    "$$VCD = \\int_{z_s}^\\infty VMR(z) \\cdot \\rho_{dryAir}(z) dz\\,,$$\n",
    "where we use the number density $\\rho_{N}$ (e.g. in molec/cm$^3$) and $z_s$ being the surface altitude.\n",
    "\n",
    "This quantity depends on both surface pressure as well as the actual $VMR$. For well-mixed gases, where changes in surface pressure outweigh the impact of changes in $VMR$, we often use the column-averaged mixing ration $X_i$:\n",
    "$$X_{Gas} = \\frac{VCD_{Gas}}{\\int_{z_s}^\\infty \\rho_{dryAir}(z) dz}$$\n",
    "\n",
    "\n",
    "\n",
    "To compute layer properties, we just integrate from one pressure level to the next:\n",
    "\n",
    "$$VCD_i = \\int_{z_i}^{z_{i+1}} VMR(z) \\cdot \\rho_{N,dryAir}(z) dz = \\bar{VMR}\\frac{\\Delta p_{dry}}{Mg}$$\n",
    "\n",
    "where we use molecular mass M (kg/molec) for the air layer, which depends on humidity to some degree. It is interesting to note that any impact of T or z is not apparent, can you derive this equation? \n",
    "\n",
    "Now we just need to approximate $g$, which we can either assume as constant or really compute as function of latitude $\\phi$ (geoid instead of perfect sphere) as well as height.\n",
    "\n",
    "$$g(\\phi,0m) \\approx 9.780327 m/s^2 \\cdot(1+0.0053024 \\sin^2 \\phi - 0.0000058 \\sin^2 2\\phi)$$\n",
    "\n",
    "This equation is the International Gravity Formula 1967 (see https://en.wikipedia.org/wiki/Gravity_of_Earth#Latitude_model). \n",
    "\n",
    "The gravity at the equator is 9.780327$\\,$m/s$^2$ and at the poles 9.83218620588$\\,$m/s$^2$, a change of about 0.5%. This is small but non-negligible if you want to get column averaged trace gas concentrations to better than 1ppm for CO$_2$, which is only 0.25% of the background of 400ppm!\n",
    "\n",
    "The last part if gravity dependence on height as the current values is given for the sea level equivalent.\n",
    "\n",
    "In general, gravity from a body of mass $m$ (here using Earth, with $m_{earth}=5.9722\\cdot 10^{24}kg$ is\n",
    "$$g_o=\\frac{G m_{Earth}}{r^2_{Earth}}\\,$$\n",
    "with G being the gravitational constant and $r_{Earth}$ the reference Earth radius of 6.371$\\cdot 10^6$m.\n",
    "\n",
    "The ratio of the gravity at sea level and at height h is thus\n",
    "$$g_h/g_0 = \\frac{r_{earth}^2}{(r_{earth}+h)^2}$$\n",
    "\n",
    "We can thus define \n",
    "$$g(\\phi,h) = g(\\phi,0m)\\cdot \\frac{r_{earth}^2}{(r_{earth}+h)^2}$$\n",
    "##### Few more constants\n",
    "gas constant $R_d$ in J/kg/K for dry air: \n",
    "R_d = 287.04;\n",
    "\n",
    "universal gas constant: \n",
    "R_universal = 8.314472;\n",
    "\n",
    "Avogadro number: \n",
    "Na = 6.0221415e23;\n",
    "\n",
    "_____\n"
   ]
  },
  {
   "cell_type": "markdown",
   "metadata": {},
   "source": [
    "### Actually calculating the layer sub-column densities based on atmospheric profile data\n",
    "\n",
    "Now that we have learned the basics of how to compute layer properties, we need to apply that knowledge using some real atmospheric data. For the lack of a better example (a lot of other real-time data is in a funny GRIB format), I chose some data from the openDAP server from NOAA, available as netCDF4 datasets. In this last example here, I actually pre-downloaded data from the MERRA re-analysis (large file!)."
   ]
  },
  {
   "cell_type": "code",
   "execution_count": null,
   "metadata": {},
   "outputs": [],
   "source": [
    "using NCDatasets\n",
    "using ProgressMeter\n",
    "# from mpl_toolkits.basemap import Basemap\n",
    "#from urllib.request import urlopen"
   ]
  },
  {
   "cell_type": "code",
   "execution_count": null,
   "metadata": {},
   "outputs": [],
   "source": [
    "mydate=\"20181007\"\n",
    "startTime = \"18z\" # There is 00, 06, 12 and 18 in UTC, i.e. 6 hourly data stacked together\n",
    "\n",
    "# What latitude do we want? Take Caltech as example\n",
    "myLat = 34.1377\n",
    "myLon = -118.1253\n",
    "\n",
    "# Try to access numerical weather forecast data (GFS here, using openDAP datasets)\n",
    "#url = 'http://nomads.ncep.noaa.gov:9090/dods/gfs_0p25/gfs' + mydate + '/gfs_0p25_'+startTime\n",
    "#url = 'https://goldsmr3.sci.gsfc.nasa.gov:443/opendap/MERRA/MAI6NVANA.5.2.0/2015/06/MERRA300.prod.assim.inst6_3d_ana_Nv.20150613.hdf'\n",
    "url = \"../files/MERRA300.prod.assim.inst6_3d_ana_Nv.20150613.hdf.nc4\"\n",
    "if !isfile(url)\n",
    "    download(\"ftp://fluo.gps.caltech.edu/XYZT_ESE156/Data/MERRA300.prod.assim.inst6_3d_ana_Nv.20150613.hdf.nc4\", \"url\")\n",
    "end\n",
    "# decided to download on my own (large!)\n",
    "# Dowload file here: ftp://fluo.gps.caltech.edu/XYZT_ESE156/Data/MERRA300.prod.assim.inst6_3d_ana_Nv.20150613.hdf.nc4\n",
    "url = \"../files/MERRA300.prod.assim.inst6_3d_ana_Nv.20150613.hdf.nc4\""
   ]
  },
  {
   "cell_type": "code",
   "execution_count": null,
   "metadata": {},
   "outputs": [],
   "source": [
    "ds = Dataset(url)\n",
    "\n",
    "# See how easy it is to actually extract data? Note the [:] in the end reads in ALL the data in one step\n",
    "lat   = ds[\"YDim\"][:]\n",
    "lon   = ds[\"XDim\"][:]\n",
    "# Temperature profile\n",
    "T     = ds[\"T\"][:]\n",
    "# specific humidity profile\n",
    "q     = ds[\"QV\"][:]\n",
    "# mean pressure profile:\n",
    "p     = ds[\"Height\"][:]\n",
    "# Surafce pressure\n",
    "psurf = ds[\"PS\"][:]\n",
    "# Time in UTC\n",
    "time  = ds[\"TIME\"][:]\n",
    "\n",
    "# AK and BK global attributes (important to calculate pressure half-levels)\n",
    "ak = ds.attrib[\"HDF_GLOBAL.ak\"][:]\n",
    "bk = ds.attrib[\"HDF_GLOBAL.bk\"][:]\n",
    "\n",
    "@show ds[\"T\"]\n",
    "\n",
    "close(ds)"
   ]
  },
  {
   "cell_type": "markdown",
   "metadata": {},
   "source": [
    "_____\n",
    "Somewhat off-topic but now that we have read global data, I just wanted to show you how you can display them on the globe. Usually, I am using python matplotlib and basemap and am still struggling to do something similar in Julia (you can use PyPlot and PyCall though!).\n",
    "_____"
   ]
  },
  {
   "cell_type": "code",
   "execution_count": null,
   "metadata": {},
   "outputs": [],
   "source": [
    "using Plots\n",
    "heatmap(lon, lat,psurf[:,:,1]' ./ 100.0 , clim = (800,1000))\n",
    "title!(\"Surface Pressure [hPa]\")\n",
    "ylims!(-60,78)"
   ]
  },
  {
   "cell_type": "code",
   "execution_count": null,
   "metadata": {},
   "outputs": [],
   "source": [
    "# Find the indices in lat/lon that best match Caltech here:\n",
    "iLat = argmin(abs.(lat .- myLat))\n",
    "iLon = argmin(abs.(lon .- myLon))\n",
    "\n",
    "@show iLat, iLon\n",
    "@show psurf[iLat,iLon,:] ./ 100."
   ]
  },
  {
   "cell_type": "code",
   "execution_count": null,
   "metadata": {},
   "outputs": [],
   "source": [
    "plot( T[iLat,iLon,:,1],p, yaxis=:flip, lw=2, label=\" 0-UTC\")\n",
    "plot!(T[iLat,iLon,:,2],p, yaxis=:flip, lw=2, label=\" 6-UTC\")\n",
    "plot!(T[iLat,iLon,:,3],p, yaxis=:flip, lw=2, label=\"12-UTC\")\n",
    "plot!(T[iLat,iLon,:,4],p, yaxis=:flip, lw=2, label=\"18-UTC\")\n",
    "xlabel!(\"Temperature [K]\")\n",
    "ylabel!(\"Pressure [hPa]\")\n",
    "title!(\"Temperature profile at Caltech (6-hourly data on 20150613)\")"
   ]
  },
  {
   "cell_type": "code",
   "execution_count": null,
   "metadata": {},
   "outputs": [],
   "source": [
    "plot( T[iLat,iLon,:,1],p, yaxis=(:log,:flip), lw=2, label=\" 0-UTC\")\n",
    "plot!(T[iLat,iLon,:,2],p, yaxis=(:log,:flip), lw=2, label=\" 6-UTC\")\n",
    "plot!(T[iLat,iLon,:,3],p, yaxis=(:log,:flip), lw=2, label=\"12-UTC\")\n",
    "plot!(T[iLat,iLon,:,4],p, yaxis=(:log,:flip), lw=2, label=\"18-UTC\")\n",
    "xlabel!(\"Temperature [K]\")\n",
    "ylabel!(\"Pressure [hPa]\")\n",
    "title!(\"Temperature profile at Caltech (6-hourly data on 20150613)\")"
   ]
  },
  {
   "cell_type": "markdown",
   "metadata": {},
   "source": [
    "Here, the y-axis is logarithmic. What does this roughly represent in a linear way?\n",
    "\n",
    "Can you identify the Tropopause, Stratosphere, Stratopause? \n",
    "\n",
    "What is the tropopause height?"
   ]
  },
  {
   "cell_type": "code",
   "execution_count": null,
   "metadata": {},
   "outputs": [],
   "source": [
    "plot( q[iLat,iLon,:,1],p, yaxis=:flip, lw=2, label=\" 0-UTC\")\n",
    "plot!(q[iLat,iLon,:,2],p, yaxis=:flip, lw=2, label=\" 6-UTC\")\n",
    "plot!(q[iLat,iLon,:,3],p, yaxis=:flip, lw=2, label=\"12-UTC\")\n",
    "plot!(q[iLat,iLon,:,4],p, yaxis=:flip, lw=2, label=\"18-UTC\")\n",
    "xlabel!(\"Specific humidity [kg/kg]\")\n",
    "ylabel!(\"Pressure [hPa]\")\n",
    "title!(\"Specific humidity profile at Caltech (6-hourly data on 20150613)\")"
   ]
  },
  {
   "cell_type": "markdown",
   "metadata": {},
   "source": [
    "#### Computing the vertical sub-columns now per layer:\n",
    "One tricky part in numerical weather forecast data is how levels are defined, see Section 2.2 in http://www.ecmwf.int/sites/default/files/elibrary/2015/9210-part-iii-dynamics-and-numerical-procedures.pdf\n",
    "\n",
    "Usually, variables are defined in $NLEV$ layers, with pressures at the so-called half-levels defined at the boundaries between the layers, providing $NLEV+1$ half-levels:\n",
    "$$p_{k+1/2} = A_{k+1/2} + B_{k+1/2}p_{surf}$$\n",
    "\n",
    "\n"
   ]
  },
  {
   "cell_type": "markdown",
   "metadata": {},
   "source": [
    "---\n",
    "Now we would like to get a function that extracts the layer properties within an atmospheric profile as a function of time slice as well as lat/lon. Below, we do this naively, in reality, we would write a function for this, which can also take gravity changes into account (also easier to use these in for other planets then!)."
   ]
  },
  {
   "cell_type": "code",
   "execution_count": null,
   "metadata": {},
   "outputs": [],
   "source": [
    "# Let's choose one index in the time-domain \n",
    "index = 1\n",
    "\n",
    "# Surface pressure at Caltech and time slice 1 (scalar):\n",
    "ps_local = psurf[iLon, iLat,index]\n",
    "# q and T profiles at Caltech and time slice 1 (vector):\n",
    "q_local  = q[iLon,iLat,:,index]\n",
    "T_local  = T[iLon,iLat,:,index]\n",
    "\n",
    "# Half-level (at the boundaries, one index more), \n",
    "# in Pa \n",
    "p_half = (ak + bk*ps_local)\n",
    "p_full = (p_half[2:end] + p_half[1:end-1])/2\n",
    "n_layers = length(T_local)\n",
    "\n",
    "# Let us ignore gravity changes for simplicity\n",
    "g₀ = 9.8196 # (m/s^2) \n",
    "Na = 6.0221415e23;\n",
    "\n",
    "dryMass = 28.9647e-3  /Na  # in kg/molec, weighted average for N2 and O2\n",
    "wetMass = 18.01528e-3 /Na  # just H2O\n",
    "\n",
    "ratio = dryMass/wetMass\n",
    "    \n",
    "\n",
    "# also get a VMR vector of H2O (volumetric!)\n",
    "vmr_h2o = zeros(n_layers,)\n",
    "vcd_dry = zeros(n_layers,)\n",
    "vcd_h2o = zeros(n_layers,)\n",
    "\n",
    "# Now actually compute the layer VCDs\n",
    "for i=1:n_layers \n",
    "    Δp = p_half[i+1] - p_half[i]\n",
    "    vmr_h2o[i] = q_local[i] * ratio\n",
    "    vmr_dry = 1 - vmr_h2o[i]\n",
    "    M  = vmr_dry * dryMass + vmr_h2o[i] * wetMass\n",
    "    vcd_dry[i] = vmr_dry*Δp/(M*g₀*100.0^2)   #includes m2->cm2\n",
    "    vcd_h2o[i] = vmr_h2o[i]*Δp/(M*g₀*100^2)\n",
    "end\n",
    "\n",
    "@show sum(vcd_dry)"
   ]
  },
  {
   "cell_type": "markdown",
   "metadata": {},
   "source": [
    "## Computing cross sections of trace gases per layer\n",
    "The next step would be to compute the actual cross sections per atmospheric layer and then multiply these with the actual VCD per layer for the different trace gases. As we now have the dry air VCDs per layer, we just need to multiply this vector with a VMR profile vector for each trace gas to get to the gas VCD (we already have this for H$_2$O here). Then, we need to compute the cross sections as function of pressure and temperature based on the layer properties.\n",
    "\n",
    "For computing the cross sections, we will use the HITRAN (high-resolution transmission molecular absorption) database and make use of their new python interface HAPI (http://hitran.org/hapi/). Essentially, HITRAN is a compilation of spectroscopic parameters needed to compute cross sections from first principles. An excellent short description is provided in http://hitran.org/docs/definitions-and-units/. Most important paremeters to keep in mind for now are \n",
    "<li> $\\nu_{ij}$, the wavenumber of the spectral line transition (cm$^{-1}$) in vacuum\n",
    "<li> $S_{ij}$, the spectral line intensity (cm$^{−1}$/(molecule$\\cdot$ cm$^{−2}$) at Tref=296K\n",
    "<li> $\\gamma_{γair}$, the air-broadened half width at half maximum (HWHM) (cm$^{−1}$/atm) at Tref=296K and reference pressure p$_{ref}$=1atm\n",
    "<li> $E″$, the lower-state energy of the transition (cm$^{-1}$)\n",
    "\n",
    "Using this database, we need to first convert $S_{ij}$ at the reference temperature to the actual temperature (Boltzmann distribution, lower state energy important here). Then, we need to convolve the $S_{ij}$(T) with the line-shape function $f(\\nu-\\nu_{ij},T,p)$, which itself is pressure and temperature dependent (pressure impacts air-broadening and temperature the doppler broadening as well as air-broadening coefficients). \n",
    "\n",
    "The absorption coefficient $k(\\nu)$ is then simply:\n",
    "$$k_{ij}(\\nu,T,p)=S_{ij}(T)\\cdot f(\\nu;nu_{ij},T,p)$$\n",
    "\n",
    "_____\n",
    "\n",
    "\n"
   ]
  },
  {
   "cell_type": "markdown",
   "metadata": {},
   "source": [
    "##### Using the new Julia RadiativeTransfer tools\n",
    "Luckily, we can now rely on our Julia interface to do most of the work for reading the spectral database and actually computing the line-shape as well as all the temperature corrections, partition sums and so forth (all of this used to be very tedious based on Fortran-style ASCII files as database). "
   ]
  },
  {
   "cell_type": "code",
   "execution_count": null,
   "metadata": {},
   "outputs": [],
   "source": [
    "using RadiativeTransfer.CrossSection"
   ]
  },
  {
   "cell_type": "markdown",
   "metadata": {},
   "source": [
    "Please dowload these files into your files folder (database for H2O, CH4 and CO2):\n",
    "ftp://fluo.gps.caltech.edu/XYZT_hitran/hitran_molec_id_1_H2O.par\n",
    "ftp://fluo.gps.caltech.edu/XYZT_hitran/hitran_molec_id_6_CH4.par\n",
    "ftp://fluo.gps.caltech.edu/XYZT_hitran/hitran_molec_id_2_CO2.par"
   ]
  },
  {
   "cell_type": "code",
   "execution_count": null,
   "metadata": {
    "code_folding": []
   },
   "outputs": [],
   "source": [
    "# Let us try to get some data around the 1.5-1.7µm spectral range for H2O, CO2 and CH4\n",
    "# Minimum wavenumber\n",
    "ν_min  = 6100.0\n",
    "# Maximum wavenumber\n",
    "ν_xmax = 6400.0\n",
    "\n",
    "# (we have to know the HITRAN molecule numbers, given in http://hitran.org/docs/molec-meta/)\n",
    "# Read in HITRAN tables\n",
    "co2_par = CrossSection.read_hitran(\"../files/hitran_molec_id_2_CO2.par\", mol=2, iso=1, ν_min=ν_min, ν_max=ν_xmax);\n",
    "ch4_par = CrossSection.read_hitran(\"../files/hitran_molec_id_6_CH4.par\", mol=6, iso=1, ν_min=ν_min, ν_max=ν_xmax);\n",
    "h2o_par = CrossSection.read_hitran(\"../files/hitran_molec_id_1_H2O.par\", mol=1, iso=1, ν_min=ν_min, ν_max=ν_xmax);"
   ]
  },
  {
   "cell_type": "code",
   "execution_count": null,
   "metadata": {},
   "outputs": [],
   "source": [
    "?co2_par"
   ]
  },
  {
   "cell_type": "code",
   "execution_count": null,
   "metadata": {},
   "outputs": [],
   "source": [
    "# and then plot them:\n",
    "scatter( h2o_par.νᵢ, h2o_par.Sᵢ, label=\"H2O\",  yaxis=:log, markersize = 2, markeralpha = 0.4)\n",
    "scatter!(co2_par.νᵢ, co2_par.Sᵢ, label=\"CO2\",  yaxis=:log, markersize = 2, markeralpha = 0.4)\n",
    "scatter!(ch4_par.νᵢ, ch4_par.Sᵢ, label=\"CH4\",  yaxis=:log, markersize = 2, markeralpha = 0.4)\n",
    "#plt.semilogy(nu_CH4, sw_CH4, '.',label='CH$_4$', alpha=0.5)\n",
    "#plt.semilogy(nu_CO2, sw_CO2, '.',label='CO$_2$', alpha=0.5)\n",
    "#plt.xlim((xmin,xmax))\n",
    "#plt.xlabel(r'$\\nu$ (cm$^{-1}$)')\n",
    "#plt.ylabel('Line intensity (cm$^{2}$/molec cm$^{-1}$) ')\n",
    "#plt.legend(loc=0)\n",
    "#plt.title('Spectral lines of main isotopologues of CO$_2$, CH$_4$ and H$_2$O in the 1.6$\\mu$m range')"
   ]
  },
  {
   "cell_type": "markdown",
   "metadata": {},
   "source": [
    "This looks pretty messy as it includes a lot of very weak transitions, which may not matter after all. However, you can start seeing actual bands appearing with their P,Q and R branched (e.g. the methane 2$\\nu_3$ band, an overtone of the $\\nu_3$ band) centered at around 6000cm$^{-1}$. "
   ]
  },
  {
   "cell_type": "markdown",
   "metadata": {},
   "source": [
    "#### Computing line-shapes and cross sections using RadiativeTransfer.CrossSection\n",
    "Now we actually want to compute some line-shapes using our tool, which provides options for Doppler, Lorentz, Voigt (more advanced line-shapes in the future). "
   ]
  },
  {
   "cell_type": "code",
   "execution_count": null,
   "metadata": {},
   "outputs": [],
   "source": [
    "co2_voigt   = make_hitran_model(co2_par, Voigt(), wing_cutoff=10)\n",
    "h2o_voigt   = make_hitran_model(h2o_par, Voigt(), wing_cutoff=10)\n",
    "ch4_voigt   = make_hitran_model(ch4_par, Voigt(), wing_cutoff=10)"
   ]
  },
  {
   "cell_type": "code",
   "execution_count": null,
   "metadata": {},
   "outputs": [],
   "source": [
    "# Define wavenumber grid:\n",
    "ν = 6100:0.01:6400\n",
    "# Compute cross sections:\n",
    "σ_co2 = absorption_cross_section(co2_voigt, ν, 1013.0, 296.0);\n",
    "σ_ch4 = absorption_cross_section(ch4_voigt, ν, 1013.0, 296.0);\n",
    "σ_h2o = absorption_cross_section(h2o_voigt, ν, 1013.0, 296.0);"
   ]
  },
  {
   "cell_type": "code",
   "execution_count": null,
   "metadata": {},
   "outputs": [],
   "source": [
    "ff = 1e20\n",
    "plot( ν, ff*σ_h2o,label=\"H2O\", alpha=0.75, yaxis=:log)\n",
    "plot!(ν, ff*σ_ch4,label=\"CH4\", alpha=0.75, yaxis=:log)\n",
    "plot!(ν, ff*σ_co2,label=\"CO2\", alpha=0.75, yaxis=:log)\n",
    "#plt.legend(loc=0)\n",
    "xlabel!(\"ν (cm⁻¹)\")\n",
    "ylabel!(\"σ (/1e20 cm⁻²/molec)\")\n",
    "title!(\"Cross sections at standard conditions of CO2, CH4 and H2O\")"
   ]
  },
  {
   "cell_type": "markdown",
   "metadata": {},
   "source": [
    "#### Looping through all atmospheric layers!\n",
    "Now, we want to compute all cross sections for the atmospheric profile obtained for Caltech from the model data. For this, we will actually use a Voigt line-shape now, i.e. a combination or Doppler and pressure broadening."
   ]
  },
  {
   "cell_type": "code",
   "execution_count": null,
   "metadata": {},
   "outputs": [],
   "source": [
    "# Create matrix of cross sections for each atmospheric layer (takes quite some time!!):\n",
    "# This \n",
    "cs_matrix_co2 = zeros((length(ν),n_layers))\n",
    "cs_matrix_ch4 = zeros((length(ν),n_layers))\n",
    "cs_matrix_h2o = zeros((length(ν),n_layers))\n",
    "\n",
    "# Loop over each layer \n",
    "@showprogress for i=1:n_layers\n",
    "    p_ = p_full[i] / 100 # in hPa\n",
    "    T_ = T_local[i]\n",
    "    cs_matrix_co2[:,i] = absorption_cross_section(co2_voigt, ν, p_, T_);\n",
    "    cs_matrix_ch4[:,i] = absorption_cross_section(ch4_voigt, ν, p_, T_);\n",
    "    cs_matrix_h2o[:,i] = absorption_cross_section(h2o_voigt, ν, p_, T_);\n",
    "end"
   ]
  },
  {
   "cell_type": "code",
   "execution_count": null,
   "metadata": {},
   "outputs": [],
   "source": [
    "plot(ν,ff*cs_matrix_co2[:,1:10:end])\n",
    "xlims!((6170,6270))\n",
    "xlabel!(\"ν (cm⁻¹)\")\n",
    "ylabel!(\"σ (/1e20 cm⁻²/molec)\")\n",
    "title!(\"Cross sections per 10th layer\")"
   ]
  },
  {
   "cell_type": "code",
   "execution_count": null,
   "metadata": {},
   "outputs": [],
   "source": [
    "plot(ν,ff*cs_matrix_co2[:,1:10:end])\n",
    "xlims!((6205.2,6205.5))\n",
    "xlabel!(\"ν (cm⁻¹)\")\n",
    "ylabel!(\"σ (/1e20 cm⁻²/molec)\")\n",
    "title!(\"Zoom on a single CO2 line at different layers (every 10th)\")"
   ]
  },
  {
   "cell_type": "markdown",
   "metadata": {},
   "source": [
    "In this figure you can already see that the spectral sampling interval of 0.01cm$^{-1}$ can be somewhat coarse for purely Doppler-broadenend lines higher up in the atmosphere.\n",
    "_____"
   ]
  },
  {
   "cell_type": "markdown",
   "metadata": {},
   "source": [
    "#### Generating a synthetic measurement using an up-looking geometry\n",
    "Now we can start building our own forward model, using the layer-based optical properties and assuming a specific solar zenith angle and a direct light-path between the sun and the actual measurement on the ground, similar to TCCON."
   ]
  },
  {
   "cell_type": "code",
   "execution_count": null,
   "metadata": {},
   "outputs": [],
   "source": [
    "SZA = 45.0\n",
    "# Single air mass factor (1 way path), ignores refraction and Earth's curvature here\n",
    "AMF = 1/cosd(SZA)\n",
    "vmr_co2 = 400e-6\n",
    "vmr_ch4 = 1.8e-6\n",
    "# Generate matrices of optical thickness per layer now for each gas: \n",
    "τ_co2 = cs_matrix_co2 .* vcd_dry' * vmr_co2\n",
    "τ_ch4 = cs_matrix_ch4 .* vcd_dry' * vmr_ch4\n",
    "#VCD_h2o = dz*rho_N_h2o\n",
    "τ_h2o = cs_matrix_h2o .* vcd_h2o'\n",
    "\n",
    "plot( ν, exp.(-AMF*sum(τ_h2o,dims=2)), alpha=0.75, label=\"H2O\")\n",
    "plot!(ν, exp.(-AMF*sum(τ_ch4,dims=2)), alpha=0.75, label=\"CH4\")\n",
    "plot!(ν, exp.(-AMF*sum(τ_co2,dims=2)), alpha=0.75, label=\"CO2\")"
   ]
  },
  {
   "cell_type": "code",
   "execution_count": null,
   "metadata": {},
   "outputs": [],
   "source": []
  }
 ],
 "metadata": {
  "@webio": {
   "lastCommId": null,
   "lastKernelId": null
  },
  "anaconda-cloud": {},
  "kernelspec": {
   "display_name": "Julia 1.5.2",
   "language": "julia",
   "name": "julia-1.5"
  },
  "language_info": {
   "file_extension": ".jl",
   "mimetype": "application/julia",
   "name": "julia",
   "version": "1.5.2"
  },
  "latex_envs": {
   "LaTeX_envs_menu_present": true,
   "autoclose": false,
   "autocomplete": true,
   "bibliofile": "biblio.bib",
   "cite_by": "apalike",
   "current_citInitial": 1,
   "eqLabelWithNumbers": true,
   "eqNumInitial": 1,
   "hotkeys": {
    "equation": "Ctrl-E",
    "itemize": "Ctrl-I"
   },
   "labels_anchors": false,
   "latex_user_defs": false,
   "report_style_numbering": false,
   "user_envs_cfg": false
  }
 },
 "nbformat": 4,
 "nbformat_minor": 4
}
